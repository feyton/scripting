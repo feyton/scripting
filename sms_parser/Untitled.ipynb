{
 "cells": [
  {
   "cell_type": "code",
   "execution_count": 2,
   "id": "8b39d174-15e0-4a3d-a1a6-6f4f48849122",
   "metadata": {},
   "outputs": [
    {
     "name": "stdout",
     "output_type": "stream",
     "text": [
      "                                                 sms     carrier  amount  \\\n",
      "0  You have received 50000 RWF from Mathieu KALIM...     M-Money   50000   \n",
      "1  *165*S*300 RWF transferred to Ignace RUBAGUMYA...     M-Money     300   \n",
      "2  TxId: 12921541087. Your payment of 700 RWF to ...     M-Money     700   \n",
      "3  You have received 20000 RWF from Gisele INGABI...     M-Money   20000   \n",
      "4  20000.00 RWF was successfully sent to Fabrice ...  EQUITYBANK   20000   \n",
      "\n",
      "  transaction_type  fees       account      receiver_sender  new_balance  \\\n",
      "0         incoming     0  Mobile Money                   Me      52307.0   \n",
      "1         outgoing    20  Mobile Money     Ignace Rubagumya      65627.0   \n",
      "2         outgoing     0  Mobile Money  Pauline MUHONGAYIRE      64927.0   \n",
      "3         incoming     0  Mobile Money      Gisele INGABIRE      65947.0   \n",
      "4         outgoing     0   Equity Bank  Fabrice Hafashimana          NaN   \n",
      "\n",
      "  category sub_category  \n",
      "0   income       family  \n",
      "1  expense         food  \n",
      "2  expense         food  \n",
      "3   income       family  \n",
      "4  expense     transfer  \n"
     ]
    }
   ],
   "source": [
    "import pandas as pd\n",
    "\n",
    "# Load the CSV file\n",
    "df = pd.read_csv(\"sms.csv\")\n",
    "df[\"date_time\"] = pd.to_datetime(df[\"date_time\"], format='mixed')\n",
    "\n",
    "relevant_columns = [\"sms\", \"carrier\",\"amount\", \"transaction_type\", \"fees\", \"account\", \"receiver_sender\", \"new_balance\", \"category\", \"sub_category\"]\n",
    "extracted_data = df[relevant_columns]\n",
    "print(extracted_data.head())\n",
    "\n",
    "\n"
   ]
  }
 ],
 "metadata": {
  "kernelspec": {
   "display_name": "Python 3 (ipykernel)",
   "language": "python",
   "name": "python3"
  },
  "language_info": {
   "codemirror_mode": {
    "name": "ipython",
    "version": 3
   },
   "file_extension": ".py",
   "mimetype": "text/x-python",
   "name": "python",
   "nbconvert_exporter": "python",
   "pygments_lexer": "ipython3",
   "version": "3.12.2"
  }
 },
 "nbformat": 4,
 "nbformat_minor": 5
}
