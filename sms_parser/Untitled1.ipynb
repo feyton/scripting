{
 "cells": [
  {
   "cell_type": "code",
   "execution_count": 1,
   "id": "11b809ad-bc8e-44c5-baef-9e47d4fa96b0",
   "metadata": {},
   "outputs": [
    {
     "name": "stdout",
     "output_type": "stream",
     "text": [
      "Extracted Information:\n",
      "Date and Time: 50000\n",
      "Amount: 316\n",
      "Transaction Type: 2024-03-04\n",
      "Fees: 11:40:02\n",
      "Account: new balance:52307\n",
      "Receiver/Sender: 12989274595\n"
     ]
    }
   ],
   "source": [
    "import pandas as pd\n",
    "import spacy\n",
    "from nltk.tokenize import word_tokenize\n",
    "from nltk.corpus import stopwords\n",
    "\n",
    "# Load spaCy model (you can choose a specific language model)\n",
    "nlp = spacy.load(\"en_core_web_sm\")\n",
    "\n",
    "# Load NLTK stopwords\n",
    "nltk_stopwords = set(stopwords.words(\"english\"))\n",
    "\n",
    "# Load your training data from the CSV file\n",
    "def load_training_data(csv_file):\n",
    "    df = pd.read_csv(csv_file)\n",
    "    df[\"date_time\"] = pd.to_datetime(df[\"date_time\"], format='mixed')\n",
    "    return df\n",
    "\n",
    "# Preprocess SMS text\n",
    "def preprocess_text(text):\n",
    "    # Tokenize and remove stopwords\n",
    "    tokens = word_tokenize(text.lower())\n",
    "    filtered_tokens = [token for token in tokens if token not in nltk_stopwords]\n",
    "    return \" \".join(filtered_tokens)\n",
    "\n",
    "# Extract relevant information from SMS\n",
    "def extract_info_from_sms(sms_text):\n",
    "    doc = nlp(sms_text)\n",
    "    # Customize this part based on your training data columns\n",
    "    date_time = doc.ents[0].text\n",
    "    amount = doc.ents[1].text\n",
    "    transaction_type = doc.ents[2].text\n",
    "    fees = doc.ents[3].text\n",
    "    account = doc.ents[4].text\n",
    "    receiver_sender = doc.ents[5].text\n",
    "    return date_time, amount, transaction_type, fees, account, receiver_sender, \n",
    "\n",
    "# Example usage\n",
    "if __name__ == \"__main__\":\n",
    "    csv_file_path = \"sms.csv\"\n",
    "    training_data = load_training_data(csv_file_path)\n",
    "\n",
    "    # Assuming you have an SMS message\n",
    "    sample_sms = \"You have received 50000 RWF from Mathieu KALIMWABO (*********316) on your mobile money account at 2024-03-04 11:40:02. Message from sender: . Your new balance:52307 RWF. Financial Transaction Id: 12989274595.\"\n",
    "    preprocessed_sms = preprocess_text(sample_sms)\n",
    "    date_time, amount, transaction_type, fees, account, receiver_sender, = extract_info_from_sms(preprocessed_sms)\n",
    "\n",
    "    print(\"Extracted Information:\")\n",
    "    print(f\"Date and Time: {date_time}\")\n",
    "    print(f\"Amount: {amount}\")\n",
    "    print(f\"Transaction Type: {transaction_type}\")\n",
    "    print(f\"Fees: {fees}\")\n",
    "    print(f\"Account: {account}\")\n",
    "    print(f\"Receiver/Sender: {receiver_sender}\")\n"
   ]
  }
 ],
 "metadata": {
  "kernelspec": {
   "display_name": "Python 3 (ipykernel)",
   "language": "python",
   "name": "python3"
  },
  "language_info": {
   "codemirror_mode": {
    "name": "ipython",
    "version": 3
   },
   "file_extension": ".py",
   "mimetype": "text/x-python",
   "name": "python",
   "nbconvert_exporter": "python",
   "pygments_lexer": "ipython3",
   "version": "3.12.2"
  }
 },
 "nbformat": 4,
 "nbformat_minor": 5
}
